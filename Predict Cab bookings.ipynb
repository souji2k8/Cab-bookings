{
 "cells": [
  {
   "cell_type": "code",
   "execution_count": 46,
   "metadata": {},
   "outputs": [],
   "source": [
    "import pandas as pd\n",
    "import numpy as np\n",
    "\n",
    "import calendar\n",
    "import datetime\n",
    "\n",
    "import matplotlib.pyplot as plt\n",
    "import seaborn as sns\n",
    "\n",
    "from sklearn.preprocessing import LabelEncoder\n",
    "\n",
    "from sklearn.linear_model import LinearRegression\n",
    "from sklearn.linear_model import LogisticRegression\n",
    "from sklearn.tree import DecisionTreeClassifier\n",
    "from sklearn.neighbors import KNeighborsClassifier\n",
    "from sklearn.discriminant_analysis import LinearDiscriminantAnalysis\n",
    "from sklearn.naive_bayes import GaussianNB\n",
    "from sklearn.svm import SVC\n",
    "\n",
    "from sklearn import model_selection\n",
    "from sklearn.model_selection import GridSearchCV,KFold,train_test_split,cross_val_score,cross_validate\n",
    "\n",
    "from sklearn.ensemble import AdaBoostClassifier\n",
    "from sklearn.ensemble import RandomForestRegressor\n",
    "from sklearn.ensemble import ExtraTreesClassifier\n",
    "from sklearn.ensemble import RandomForestClassifier\n",
    "\n",
    "from sklearn.preprocessing import PolynomialFeatures\n",
    "\n",
    "from sklearn.metrics import mean_squared_error, r2_score,recall_score,mean_squared_error\n",
    "\n",
    "%matplotlib inline \n",
    "import warnings\n",
    "from sklearn.exceptions import DataConversionWarning\n",
    "warnings.filterwarnings(action='ignore', category=DataConversionWarning)\n",
    "warnings.filterwarnings('ignore')"
   ]
  },
  {
   "cell_type": "code",
   "execution_count": 47,
   "metadata": {},
   "outputs": [],
   "source": [
    "train=pd.read_csv(r\"Dataset/train.csv\")\n",
    "train_target=pd.read_csv(r\"Dataset/train_label.csv\",header=None)\n",
    "train['Total_booking']=train_target"
   ]
  },
  {
   "cell_type": "code",
   "execution_count": 48,
   "metadata": {},
   "outputs": [
    {
     "data": {
      "text/html": [
       "<div>\n",
       "<style scoped>\n",
       "    .dataframe tbody tr th:only-of-type {\n",
       "        vertical-align: middle;\n",
       "    }\n",
       "\n",
       "    .dataframe tbody tr th {\n",
       "        vertical-align: top;\n",
       "    }\n",
       "\n",
       "    .dataframe thead th {\n",
       "        text-align: right;\n",
       "    }\n",
       "</style>\n",
       "<table border=\"1\" class=\"dataframe\">\n",
       "  <thead>\n",
       "    <tr style=\"text-align: right;\">\n",
       "      <th></th>\n",
       "      <th>datetime</th>\n",
       "      <th>season</th>\n",
       "      <th>holiday</th>\n",
       "      <th>workingday</th>\n",
       "      <th>weather</th>\n",
       "      <th>temp</th>\n",
       "      <th>atemp</th>\n",
       "      <th>humidity</th>\n",
       "      <th>windspeed</th>\n",
       "      <th>Total_booking</th>\n",
       "    </tr>\n",
       "  </thead>\n",
       "  <tbody>\n",
       "    <tr>\n",
       "      <th>0</th>\n",
       "      <td>5/2/2012 19:00</td>\n",
       "      <td>Summer</td>\n",
       "      <td>0</td>\n",
       "      <td>1</td>\n",
       "      <td>Clear + Few clouds</td>\n",
       "      <td>22.14</td>\n",
       "      <td>25.76</td>\n",
       "      <td>77</td>\n",
       "      <td>16.9979</td>\n",
       "      <td>504</td>\n",
       "    </tr>\n",
       "  </tbody>\n",
       "</table>\n",
       "</div>"
      ],
      "text/plain": [
       "         datetime  season  holiday  workingday              weather   temp  \\\n",
       "0  5/2/2012 19:00  Summer        0           1   Clear + Few clouds  22.14   \n",
       "\n",
       "   atemp  humidity  windspeed  Total_booking  \n",
       "0  25.76        77    16.9979            504  "
      ]
     },
     "execution_count": 48,
     "metadata": {},
     "output_type": "execute_result"
    }
   ],
   "source": [
    "train.head(1)"
   ]
  },
  {
   "cell_type": "code",
   "execution_count": 49,
   "metadata": {},
   "outputs": [
    {
     "data": {
      "text/html": [
       "<div>\n",
       "<style scoped>\n",
       "    .dataframe tbody tr th:only-of-type {\n",
       "        vertical-align: middle;\n",
       "    }\n",
       "\n",
       "    .dataframe tbody tr th {\n",
       "        vertical-align: top;\n",
       "    }\n",
       "\n",
       "    .dataframe thead th {\n",
       "        text-align: right;\n",
       "    }\n",
       "</style>\n",
       "<table border=\"1\" class=\"dataframe\">\n",
       "  <thead>\n",
       "    <tr style=\"text-align: right;\">\n",
       "      <th></th>\n",
       "      <th>holiday</th>\n",
       "      <th>workingday</th>\n",
       "      <th>temp</th>\n",
       "      <th>atemp</th>\n",
       "      <th>humidity</th>\n",
       "      <th>windspeed</th>\n",
       "      <th>Total_booking</th>\n",
       "    </tr>\n",
       "  </thead>\n",
       "  <tbody>\n",
       "    <tr>\n",
       "      <th>count</th>\n",
       "      <td>8708.000000</td>\n",
       "      <td>8708.000000</td>\n",
       "      <td>8708.000000</td>\n",
       "      <td>8708.000000</td>\n",
       "      <td>8708.000000</td>\n",
       "      <td>8708.000000</td>\n",
       "      <td>8708.000000</td>\n",
       "    </tr>\n",
       "    <tr>\n",
       "      <th>mean</th>\n",
       "      <td>0.028480</td>\n",
       "      <td>0.680294</td>\n",
       "      <td>20.243020</td>\n",
       "      <td>23.655552</td>\n",
       "      <td>61.649173</td>\n",
       "      <td>12.843891</td>\n",
       "      <td>193.007005</td>\n",
       "    </tr>\n",
       "    <tr>\n",
       "      <th>std</th>\n",
       "      <td>0.166348</td>\n",
       "      <td>0.466389</td>\n",
       "      <td>7.813494</td>\n",
       "      <td>8.501107</td>\n",
       "      <td>19.199578</td>\n",
       "      <td>8.190314</td>\n",
       "      <td>181.552211</td>\n",
       "    </tr>\n",
       "    <tr>\n",
       "      <th>min</th>\n",
       "      <td>0.000000</td>\n",
       "      <td>0.000000</td>\n",
       "      <td>0.820000</td>\n",
       "      <td>0.760000</td>\n",
       "      <td>0.000000</td>\n",
       "      <td>0.000000</td>\n",
       "      <td>1.000000</td>\n",
       "    </tr>\n",
       "    <tr>\n",
       "      <th>25%</th>\n",
       "      <td>0.000000</td>\n",
       "      <td>0.000000</td>\n",
       "      <td>13.940000</td>\n",
       "      <td>16.665000</td>\n",
       "      <td>46.000000</td>\n",
       "      <td>7.001500</td>\n",
       "      <td>43.000000</td>\n",
       "    </tr>\n",
       "    <tr>\n",
       "      <th>50%</th>\n",
       "      <td>0.000000</td>\n",
       "      <td>1.000000</td>\n",
       "      <td>20.500000</td>\n",
       "      <td>24.240000</td>\n",
       "      <td>61.000000</td>\n",
       "      <td>12.998000</td>\n",
       "      <td>148.000000</td>\n",
       "    </tr>\n",
       "    <tr>\n",
       "      <th>75%</th>\n",
       "      <td>0.000000</td>\n",
       "      <td>1.000000</td>\n",
       "      <td>26.240000</td>\n",
       "      <td>31.060000</td>\n",
       "      <td>77.000000</td>\n",
       "      <td>16.997900</td>\n",
       "      <td>286.000000</td>\n",
       "    </tr>\n",
       "    <tr>\n",
       "      <th>max</th>\n",
       "      <td>1.000000</td>\n",
       "      <td>1.000000</td>\n",
       "      <td>41.000000</td>\n",
       "      <td>45.455000</td>\n",
       "      <td>100.000000</td>\n",
       "      <td>56.996900</td>\n",
       "      <td>977.000000</td>\n",
       "    </tr>\n",
       "  </tbody>\n",
       "</table>\n",
       "</div>"
      ],
      "text/plain": [
       "           holiday   workingday         temp        atemp     humidity  \\\n",
       "count  8708.000000  8708.000000  8708.000000  8708.000000  8708.000000   \n",
       "mean      0.028480     0.680294    20.243020    23.655552    61.649173   \n",
       "std       0.166348     0.466389     7.813494     8.501107    19.199578   \n",
       "min       0.000000     0.000000     0.820000     0.760000     0.000000   \n",
       "25%       0.000000     0.000000    13.940000    16.665000    46.000000   \n",
       "50%       0.000000     1.000000    20.500000    24.240000    61.000000   \n",
       "75%       0.000000     1.000000    26.240000    31.060000    77.000000   \n",
       "max       1.000000     1.000000    41.000000    45.455000   100.000000   \n",
       "\n",
       "         windspeed  Total_booking  \n",
       "count  8708.000000    8708.000000  \n",
       "mean     12.843891     193.007005  \n",
       "std       8.190314     181.552211  \n",
       "min       0.000000       1.000000  \n",
       "25%       7.001500      43.000000  \n",
       "50%      12.998000     148.000000  \n",
       "75%      16.997900     286.000000  \n",
       "max      56.996900     977.000000  "
      ]
     },
     "execution_count": 49,
     "metadata": {},
     "output_type": "execute_result"
    }
   ],
   "source": [
    "train.describe()"
   ]
  },
  {
   "cell_type": "code",
   "execution_count": 50,
   "metadata": {},
   "outputs": [
    {
     "data": {
      "text/plain": [
       "datetime          object\n",
       "season            object\n",
       "holiday            int64\n",
       "workingday         int64\n",
       "weather           object\n",
       "temp             float64\n",
       "atemp            float64\n",
       "humidity           int64\n",
       "windspeed        float64\n",
       "Total_booking      int64\n",
       "dtype: object"
      ]
     },
     "execution_count": 50,
     "metadata": {},
     "output_type": "execute_result"
    }
   ],
   "source": [
    "train.dtypes"
   ]
  },
  {
   "cell_type": "markdown",
   "metadata": {},
   "source": [
    "# Data Visualization"
   ]
  },
  {
   "cell_type": "markdown",
   "metadata": {},
   "source": [
    "### Total_booking column"
   ]
  },
  {
   "cell_type": "code",
   "execution_count": 51,
   "metadata": {},
   "outputs": [
    {
     "data": {
      "text/plain": [
       "<matplotlib.axes._subplots.AxesSubplot at 0x1876b5b8128>"
      ]
     },
     "execution_count": 51,
     "metadata": {},
     "output_type": "execute_result"
    },
    {
     "data": {
      "image/png": "[encoded data removed]",
      "text/plain": [
       "<Figure size 432x288 with 1 Axes>"
      ]
     },
     "metadata": {
      "needs_background": "light"
     },
     "output_type": "display_data"
    }
   ],
   "source": [
    "sns.countplot( train['Total_booking'])"
   ]
  },
  {
   "cell_type": "markdown",
   "metadata": {},
   "source": [
    "#### We can observe that the range of total booking high. There is high variance among this column."
   ]
  },
  {
   "cell_type": "markdown",
   "metadata": {},
   "source": [
    "### DateTime column"
   ]
  },
  {
   "cell_type": "code",
   "execution_count": 52,
   "metadata": {},
   "outputs": [
    {
     "data": {
      "image/png": "[encoded data removed]",
      "text/plain": [
       "<Figure size 432x288 with 1 Axes>"
      ]
     },
     "metadata": {
      "needs_background": "light"
     },
     "output_type": "display_data"
    }
   ],
   "source": [
    "train['datetime_new']=train['datetime'].apply(lambda x:datetime.datetime.strptime(x,'%m/%d/%Y %H:%M'))\n",
    "plt.plot(train['datetime_new'], train['Total_booking'],color='r')\n",
    "plt.show()\n",
    "train.drop('datetime_new',axis=1,inplace=True)"
   ]
  },
  {
   "cell_type": "markdown",
   "metadata": {},
   "source": [
    "#### No insights can be drawn from datetime column by seeing the aboove plot , we are removing that column but only after extracting necessary information like time,day,month and year separately as they might impact target column."
   ]
  },
  {
   "cell_type": "markdown",
   "metadata": {},
   "source": [
    "### Year vs Total_booking"
   ]
  },
  {
   "cell_type": "code",
   "execution_count": 53,
   "metadata": {},
   "outputs": [
    {
     "data": {
      "text/plain": [
       "<matplotlib.axes._subplots.AxesSubplot at 0x1876bde5f98>"
      ]
     },
     "execution_count": 53,
     "metadata": {},
     "output_type": "execute_result"
    },
    {
     "data": {
      "image/png": "[encoded data removed]",
      "text/plain": [
       "<Figure size 432x288 with 1 Axes>"
      ]
     },
     "metadata": {
      "needs_background": "light"
     },
     "output_type": "display_data"
    }
   ],
   "source": [
    "train['date']=train.datetime.apply(lambda x:x.split()[0])\n",
    "train['year']=train.date.apply(lambda x:x.split(\"/\")[2])\n",
    "var = train.groupby(['year']).Total_booking.sum() #grouped sum of sales at Gender level\n",
    "fig = plt.figure()\n",
    "ax1 = fig.add_subplot(1,1,1)\n",
    "ax1.set_xlabel('Year')\n",
    "ax1.set_ylabel('Total Count of bookings')\n",
    "ax1.set_title(\"Year wise Count of Total Cab bookings\")\n",
    "var.plot(kind='bar')"
   ]
  },
  {
   "cell_type": "markdown",
   "metadata": {},
   "source": [
    "#### 2012 has more booking count than 2011 which can be due to many reasons like good marketing strategy , popularity, price drop etc"
   ]
  },
  {
   "cell_type": "markdown",
   "metadata": {},
   "source": [
    "### Day vs Total_booking"
   ]
  },
  {
   "cell_type": "code",
   "execution_count": 54,
   "metadata": {},
   "outputs": [
    {
     "data": {
      "image/png": "[encoded data removed]",
      "text/plain": [
       "<Figure size 288x288 with 1 Axes>"
      ]
     },
     "metadata": {},
     "output_type": "display_data"
    }
   ],
   "source": [
    "train['date']=train.datetime.apply(lambda x:x.split()[0])\n",
    "train['day']=train.date.apply(lambda x:calendar.day_name[datetime.datetime.strptime(x, \"%m/%d/%Y\").weekday()])\n",
    "import matplotlib.pyplot as plt\n",
    "plt.figure(figsize=(4,4))\n",
    "x = [train[train['day']=='Monday'].Total_booking.sum(),\n",
    "     train[train['day']== 'Tuesday'].Total_booking.sum(),\n",
    "     train[train['day']=='Wednesday'].Total_booking.sum(),\n",
    "     train[train['day']=='Thursday'].Total_booking.sum(),\n",
    "     train[train['day']=='Friday'].Total_booking.sum(),\n",
    "     train[train['day']=='Saturday'].Total_booking.sum(),\n",
    "     train[train['day']=='Sunday'].Total_booking.sum()    ]\n",
    "\n",
    "day=['Monday','Tuesday','Wednesday','Thursday','Friday','Saturday','Sunday']\n",
    "labels = ['Bikes', 'Cars', 'Buses']\n",
    "plt.pie(x, labels=day,autopct='%.2f')\n",
    "plt.show()"
   ]
  },
  {
   "cell_type": "markdown",
   "metadata": {},
   "source": [
    "#### On Saturday, the count is higher and on sunday the total count is lower.\n",
    "\n",
    "#### There is no significant difference in the total bookings count over the weekdays. "
   ]
  },
  {
   "cell_type": "markdown",
   "metadata": {},
   "source": [
    "### Month vs Total_booking"
   ]
  },
  {
   "cell_type": "code",
   "execution_count": 55,
   "metadata": {},
   "outputs": [
    {
     "data": {
      "text/plain": [
       "<matplotlib.axes._subplots.AxesSubplot at 0x1876c1b1668>"
      ]
     },
     "execution_count": 55,
     "metadata": {},
     "output_type": "execute_result"
    },
    {
     "data": {
      "image/png": "[encoded data removed]",
      "text/plain": [
       "<Figure size 432x288 with 1 Axes>"
      ]
     },
     "metadata": {
      "needs_background": "light"
     },
     "output_type": "display_data"
    }
   ],
   "source": [
    "train['month']=train.date.apply(lambda x:calendar.month_name[datetime.datetime.strptime(x, \"%m/%d/%Y\").month])\n",
    "month=['January','February','March','April','May','June','July','August','September','October','November','December']\n",
    "var = train.groupby(pd.Categorical(train['month'], categories=month, ordered=True)).Total_booking.sum()\n",
    "fig = plt.figure()\n",
    "ax1 = fig.add_subplot(1,1,1)\n",
    "ax1.set_ylabel('Total Count of bookings')\n",
    "ax1.set_xlabel('month')\n",
    "ax1.set_title(\"Month wise Count of Total Cab bookings\")\n",
    "var.plot(kind='bar')"
   ]
  },
  {
   "cell_type": "markdown",
   "metadata": {},
   "source": [
    "#### We can observe that total bookings count increase from the starting of the year to mid year and and there is only small decline as the year ends.  "
   ]
  },
  {
   "cell_type": "markdown",
   "metadata": {},
   "source": [
    "### Time vs Total Booking"
   ]
  },
  {
   "cell_type": "code",
   "execution_count": 56,
   "metadata": {},
   "outputs": [
    {
     "data": {
      "text/plain": [
       "<matplotlib.axes._subplots.AxesSubplot at 0x18794c5f9b0>"
      ]
     },
     "execution_count": 56,
     "metadata": {},
     "output_type": "execute_result"
    },
    {
     "data": {
      "image/png": "[encoded data removed]",
      "text/plain": [
       "<Figure size 432x288 with 1 Axes>"
      ]
     },
     "metadata": {
      "needs_background": "light"
     },
     "output_type": "display_data"
    }
   ],
   "source": [
    "train['time']=train.datetime.apply(lambda x:x.split()[1].split(\":\")[0])\n",
    "time=['0','1','2','3','4','5','6','7','8','9','10','11','12','13','14','15','16','17','18','19','20','21','22','23']\n",
    "var = train.groupby(pd.Categorical(train['time'], categories=time, ordered=True)).Total_booking.sum()\n",
    "fig = plt.figure()\n",
    "ax1 = fig.add_subplot(1,1,1)\n",
    "ax1.set_ylabel('Total Count of bookings')\n",
    "ax1.set_xlabel('time')\n",
    "ax1.set_title(\"Month wise Count of Total Cab bookings\")\n",
    "var.plot(kind='bar')"
   ]
  },
  {
   "cell_type": "markdown",
   "metadata": {},
   "source": [
    "#### We can observe that bookings are high during morning 8 which we can assume as office start time for various people and bookings are again high during evening 6 to 8 PM . The extremely low booking count at 4 AM tells us that people travel very less during that time."
   ]
  },
  {
   "cell_type": "markdown",
   "metadata": {},
   "source": [
    "### Season Column vs Total_booking"
   ]
  },
  {
   "cell_type": "code",
   "execution_count": 57,
   "metadata": {},
   "outputs": [
    {
     "data": {
      "text/plain": [
       "<matplotlib.axes._subplots.AxesSubplot at 0x18794d64be0>"
      ]
     },
     "execution_count": 57,
     "metadata": {},
     "output_type": "execute_result"
    },
    {
     "data": {
      "image/png": "[encoded data removed]",
      "text/plain": [
       "<Figure size 432x288 with 1 Axes>"
      ]
     },
     "metadata": {
      "needs_background": "light"
     },
     "output_type": "display_data"
    }
   ],
   "source": [
    "import seaborn as sns\n",
    "%matplotlib inline\n",
    "tips = sns.load_dataset(\"tips\")\n",
    "sns.countplot(x='season', \n",
    "              data=train,\n",
    "              palette =\"YlGnBu\")"
   ]
  },
  {
   "cell_type": "markdown",
   "metadata": {},
   "source": [
    "#### We have noticed that spring has low count of bookings when compared to other seasons because of the nice weather.  "
   ]
  },
  {
   "cell_type": "markdown",
   "metadata": {},
   "source": [
    "### Weather Column vs Total_booking"
   ]
  },
  {
   "cell_type": "code",
   "execution_count": 58,
   "metadata": {},
   "outputs": [
    {
     "data": {
      "text/plain": [
       "<matplotlib.axes._subplots.AxesSubplot at 0x1876c283438>"
      ]
     },
     "execution_count": 58,
     "metadata": {},
     "output_type": "execute_result"
    },
    {
     "data": {
      "image/png": "[encoded data removed]",
      "text/plain": [
       "<Figure size 432x288 with 1 Axes>"
      ]
     },
     "metadata": {
      "needs_background": "light"
     },
     "output_type": "display_data"
    }
   ],
   "source": [
    "var = train.groupby(['weather']).Total_booking.sum() \n",
    "fig = plt.figure()\n",
    "ax1 = fig.add_subplot(1,1,1)\n",
    "ax1.set_xlabel('Weather')\n",
    "ax1.set_ylabel('Total Count of bookings')\n",
    "ax1.set_title(\"Season wise Count of Total Cab bookings\")\n",
    "var.plot(kind='bar')"
   ]
  },
  {
   "cell_type": "markdown",
   "metadata": {},
   "source": [
    "#### We can observe that heavy rain+thunderstorm has very few cabs booked and clear + few clouds has maximum cabs booked. "
   ]
  },
  {
   "cell_type": "markdown",
   "metadata": {},
   "source": [
    "#### The interesting point is even when there is light snow + light rain, the bookings are very low.  "
   ]
  },
  {
   "cell_type": "markdown",
   "metadata": {},
   "source": [
    "### Temp with atemp pair plot"
   ]
  },
  {
   "cell_type": "code",
   "execution_count": 59,
   "metadata": {},
   "outputs": [
    {
     "data": {
      "text/plain": [
       "<seaborn.axisgrid.PairGrid at 0x18794dcfcf8>"
      ]
     },
     "execution_count": 59,
     "metadata": {},
     "output_type": "execute_result"
    },
    {
     "data": {
      "image/png": "[encoded data removed]",
      "text/plain": [
       "<Figure size 432x432 with 6 Axes>"
      ]
     },
     "metadata": {
      "needs_background": "light"
     },
     "output_type": "display_data"
    }
   ],
   "source": [
    "sns.pairplot(train, height=3,vars=[\"temp\", \"atemp\"])"
   ]
  },
  {
   "cell_type": "markdown",
   "metadata": {},
   "source": [
    "#### These columns are highly co-related and distance between them is also very low."
   ]
  },
  {
   "cell_type": "markdown",
   "metadata": {},
   "source": [
    "### atemp & temp column vs Total_booking"
   ]
  },
  {
   "cell_type": "code",
   "execution_count": 60,
   "metadata": {},
   "outputs": [
    {
     "data": {
      "image/png": "[encoded data removed]",
      "text/plain": [
       "<Figure size 432x288 with 1 Axes>"
      ]
     },
     "metadata": {
      "needs_background": "light"
     },
     "output_type": "display_data"
    }
   ],
   "source": [
    "import numpy, matplotlib.pyplot as plt\n",
    "plt.plot(train.temp, label='Actual')\n",
    "plt.plot(train.atemp, label='Feels like')\n",
    "plt.xlabel('Day')\n",
    "plt.ylabel('Temperature')\n",
    "plt.axis([1,7,0,50])\n",
    "plt.legend()\n",
    "plt.show()"
   ]
  },
  {
   "cell_type": "markdown",
   "metadata": {},
   "source": [
    "#### The Actual temperature and feels like are close by to each other."
   ]
  },
  {
   "cell_type": "markdown",
   "metadata": {},
   "source": [
    "#### We have created another column by takeing average of temp and atemp , named it temperature."
   ]
  },
  {
   "cell_type": "code",
   "execution_count": 61,
   "metadata": {},
   "outputs": [
    {
     "data": {
      "image/png": "[encoded data removed]",
      "text/plain": [
       "<Figure size 432x288 with 1 Axes>"
      ]
     },
     "metadata": {
      "needs_background": "light"
     },
     "output_type": "display_data"
    }
   ],
   "source": [
    "train['temperature']=(train['temp']+train['atemp'])/2\n",
    "import numpy, matplotlib.pyplot as plt\n",
    "plt.plot(train.temp, label='Actual')\n",
    "plt.plot(train.atemp, label='Feels like')\n",
    "plt.plot(train.temperature, label='Average of temp and feels like')\n",
    "plt.xlabel('Day')\n",
    "plt.ylabel('Temperature')\n",
    "plt.axis([1,7,0,50])\n",
    "plt.legend()\n",
    "plt.show()"
   ]
  },
  {
   "cell_type": "markdown",
   "metadata": {},
   "source": [
    "#### Here , we took the average of temp and atemp and created a new columnn. From the above plot, we can observe that it follows similar trend as other two. We can use the column temperature and remove \"temp\" and \"atemp\"."
   ]
  },
  {
   "cell_type": "markdown",
   "metadata": {},
   "source": [
    "### Humidity"
   ]
  },
  {
   "cell_type": "code",
   "execution_count": 62,
   "metadata": {},
   "outputs": [
    {
     "data": {
      "text/plain": [
       "<matplotlib.axes._subplots.AxesSubplot at 0x18794fe0be0>"
      ]
     },
     "execution_count": 62,
     "metadata": {},
     "output_type": "execute_result"
    },
    {
     "data": {
      "image/png": "[encoded data removed]",
      "text/plain": [
       "<Figure size 432x288 with 1 Axes>"
      ]
     },
     "metadata": {
      "needs_background": "light"
     },
     "output_type": "display_data"
    }
   ],
   "source": [
    "sns.distplot(train.humidity,label='humidity')"
   ]
  },
  {
   "cell_type": "markdown",
   "metadata": {},
   "source": [
    "#### Most of the data lies in certain range of humidity values."
   ]
  },
  {
   "cell_type": "markdown",
   "metadata": {},
   "source": [
    "### Windspeed"
   ]
  },
  {
   "cell_type": "code",
   "execution_count": 63,
   "metadata": {},
   "outputs": [
    {
     "data": {
      "text/plain": [
       "<matplotlib.axes._subplots.AxesSubplot at 0x1879507beb8>"
      ]
     },
     "execution_count": 63,
     "metadata": {},
     "output_type": "execute_result"
    },
    {
     "data": {
      "image/png": "[encoded data removed]",
      "text/plain": [
       "<Figure size 432x288 with 1 Axes>"
      ]
     },
     "metadata": {
      "needs_background": "light"
     },
     "output_type": "display_data"
    }
   ],
   "source": [
    "sns.distplot(train.windspeed,label='windspeed')"
   ]
  },
  {
   "cell_type": "markdown",
   "metadata": {},
   "source": [
    "#### The curve looks right skewed. "
   ]
  },
  {
   "cell_type": "markdown",
   "metadata": {},
   "source": [
    "## Finding Outliers"
   ]
  },
  {
   "cell_type": "markdown",
   "metadata": {},
   "source": [
    "### Replacing outliers with mean"
   ]
  },
  {
   "cell_type": "code",
   "execution_count": 64,
   "metadata": {},
   "outputs": [
    {
     "name": "stdout",
     "output_type": "stream",
     "text": [
      "atemp column outliers : 0\n",
      "temp column outliers : 0\n",
      "humidity column outliers : 0\n",
      "windspeed column outliers : 0\n"
     ]
    }
   ],
   "source": [
    "def detect_outlier(df,column_name):\n",
    "    data_std = df[column_name].describe()[2]\n",
    "    data_mean = df[column_name].describe()[1]\n",
    "    \n",
    "    lb  = data_mean -(data_std * 3)  \n",
    "    ub = data_mean +(data_std * 3) \n",
    "    \n",
    "    l=df.shape[1]\n",
    "    count=0\n",
    "    for i in range(l):\n",
    "        if df[column_name][i] < lb or df[column_name][i] > ub:\n",
    "            count+=1\n",
    "            outliers.append(df[column_name][i])\n",
    "            \n",
    "#     Replacing with mean using lambda function if there are any outliers\n",
    "    df[column_name] = df[column_name].apply(lambda x : data_mean if (x > ub) or (x < lb) else x )\n",
    "    return count\n",
    "\n",
    "print(\"atemp column outliers :\",detect_outlier(train,'atemp'))\n",
    "print(\"temp column outliers :\",detect_outlier(train,'temp'))\n",
    "print(\"humidity column outliers :\",detect_outlier(train,'humidity'))\n",
    "print(\"windspeed column outliers :\",detect_outlier(train,'windspeed'))"
   ]
  },
  {
   "cell_type": "markdown",
   "metadata": {},
   "source": [
    "## Missing Value Analysis"
   ]
  },
  {
   "cell_type": "code",
   "execution_count": 65,
   "metadata": {},
   "outputs": [
    {
     "data": {
      "text/plain": [
       "datetime         0\n",
       "season           0\n",
       "holiday          0\n",
       "workingday       0\n",
       "weather          0\n",
       "temp             0\n",
       "atemp            0\n",
       "humidity         0\n",
       "windspeed        0\n",
       "Total_booking    0\n",
       "date             0\n",
       "year             0\n",
       "day              0\n",
       "month            0\n",
       "time             0\n",
       "temperature      0\n",
       "dtype: int64"
      ]
     },
     "execution_count": 65,
     "metadata": {},
     "output_type": "execute_result"
    }
   ],
   "source": [
    "train.isnull().sum()"
   ]
  },
  {
   "cell_type": "markdown",
   "metadata": {},
   "source": [
    "#### AS there are no missing values, the data remains same. "
   ]
  },
  {
   "cell_type": "markdown",
   "metadata": {},
   "source": [
    "## Correlation Analysis"
   ]
  },
  {
   "cell_type": "code",
   "execution_count": 66,
   "metadata": {},
   "outputs": [
    {
     "data": {
      "image/png": "[encoded data removed]",
      "text/plain": [
       "<Figure size 864x720 with 2 Axes>"
      ]
     },
     "metadata": {
      "needs_background": "light"
     },
     "output_type": "display_data"
    }
   ],
   "source": [
    "plt.figure(figsize=(12,10))\n",
    "cor = train.corr()\n",
    "sns.heatmap(cor, annot=True, cmap=plt.cm.Reds)\n",
    "plt.show()"
   ]
  },
  {
   "cell_type": "code",
   "execution_count": 67,
   "metadata": {},
   "outputs": [
    {
     "data": {
      "text/html": [
       "<div>\n",
       "<style scoped>\n",
       "    .dataframe tbody tr th:only-of-type {\n",
       "        vertical-align: middle;\n",
       "    }\n",
       "\n",
       "    .dataframe tbody tr th {\n",
       "        vertical-align: top;\n",
       "    }\n",
       "\n",
       "    .dataframe thead th {\n",
       "        text-align: right;\n",
       "    }\n",
       "</style>\n",
       "<table border=\"1\" class=\"dataframe\">\n",
       "  <thead>\n",
       "    <tr style=\"text-align: right;\">\n",
       "      <th></th>\n",
       "      <th>holiday</th>\n",
       "      <th>workingday</th>\n",
       "      <th>temp</th>\n",
       "      <th>atemp</th>\n",
       "      <th>humidity</th>\n",
       "      <th>windspeed</th>\n",
       "      <th>Total_booking</th>\n",
       "      <th>temperature</th>\n",
       "    </tr>\n",
       "  </thead>\n",
       "  <tbody>\n",
       "    <tr>\n",
       "      <th>holiday</th>\n",
       "      <td>1.000000</td>\n",
       "      <td>-0.249755</td>\n",
       "      <td>-0.000165</td>\n",
       "      <td>-0.005526</td>\n",
       "      <td>-0.005765</td>\n",
       "      <td>0.011886</td>\n",
       "      <td>-0.004391</td>\n",
       "      <td>-0.002970</td>\n",
       "    </tr>\n",
       "    <tr>\n",
       "      <th>workingday</th>\n",
       "      <td>-0.249755</td>\n",
       "      <td>1.000000</td>\n",
       "      <td>0.032189</td>\n",
       "      <td>0.026168</td>\n",
       "      <td>-0.004783</td>\n",
       "      <td>0.015633</td>\n",
       "      <td>0.012285</td>\n",
       "      <td>0.029168</td>\n",
       "    </tr>\n",
       "    <tr>\n",
       "      <th>temp</th>\n",
       "      <td>-0.000165</td>\n",
       "      <td>0.032189</td>\n",
       "      <td>1.000000</td>\n",
       "      <td>0.984035</td>\n",
       "      <td>-0.070518</td>\n",
       "      <td>-0.019887</td>\n",
       "      <td>0.397456</td>\n",
       "      <td>0.995656</td>\n",
       "    </tr>\n",
       "    <tr>\n",
       "      <th>atemp</th>\n",
       "      <td>-0.005526</td>\n",
       "      <td>0.026168</td>\n",
       "      <td>0.984035</td>\n",
       "      <td>1.000000</td>\n",
       "      <td>-0.047711</td>\n",
       "      <td>-0.060410</td>\n",
       "      <td>0.392754</td>\n",
       "      <td>0.996331</td>\n",
       "    </tr>\n",
       "    <tr>\n",
       "      <th>humidity</th>\n",
       "      <td>-0.005765</td>\n",
       "      <td>-0.004783</td>\n",
       "      <td>-0.070518</td>\n",
       "      <td>-0.047711</td>\n",
       "      <td>1.000000</td>\n",
       "      <td>-0.314909</td>\n",
       "      <td>-0.317318</td>\n",
       "      <td>-0.058869</td>\n",
       "    </tr>\n",
       "    <tr>\n",
       "      <th>windspeed</th>\n",
       "      <td>0.011886</td>\n",
       "      <td>0.015633</td>\n",
       "      <td>-0.019887</td>\n",
       "      <td>-0.060410</td>\n",
       "      <td>-0.314909</td>\n",
       "      <td>1.000000</td>\n",
       "      <td>0.099752</td>\n",
       "      <td>-0.041167</td>\n",
       "    </tr>\n",
       "    <tr>\n",
       "      <th>Total_booking</th>\n",
       "      <td>-0.004391</td>\n",
       "      <td>0.012285</td>\n",
       "      <td>0.397456</td>\n",
       "      <td>0.392754</td>\n",
       "      <td>-0.317318</td>\n",
       "      <td>0.099752</td>\n",
       "      <td>1.000000</td>\n",
       "      <td>0.396589</td>\n",
       "    </tr>\n",
       "    <tr>\n",
       "      <th>temperature</th>\n",
       "      <td>-0.002970</td>\n",
       "      <td>0.029168</td>\n",
       "      <td>0.995656</td>\n",
       "      <td>0.996331</td>\n",
       "      <td>-0.058869</td>\n",
       "      <td>-0.041167</td>\n",
       "      <td>0.396589</td>\n",
       "      <td>1.000000</td>\n",
       "    </tr>\n",
       "  </tbody>\n",
       "</table>\n",
       "</div>"
      ],
      "text/plain": [
       "                holiday  workingday      temp     atemp  humidity  windspeed  \\\n",
       "holiday        1.000000   -0.249755 -0.000165 -0.005526 -0.005765   0.011886   \n",
       "workingday    -0.249755    1.000000  0.032189  0.026168 -0.004783   0.015633   \n",
       "temp          -0.000165    0.032189  1.000000  0.984035 -0.070518  -0.019887   \n",
       "atemp         -0.005526    0.026168  0.984035  1.000000 -0.047711  -0.060410   \n",
       "humidity      -0.005765   -0.004783 -0.070518 -0.047711  1.000000  -0.314909   \n",
       "windspeed      0.011886    0.015633 -0.019887 -0.060410 -0.314909   1.000000   \n",
       "Total_booking -0.004391    0.012285  0.397456  0.392754 -0.317318   0.099752   \n",
       "temperature   -0.002970    0.029168  0.995656  0.996331 -0.058869  -0.041167   \n",
       "\n",
       "               Total_booking  temperature  \n",
       "holiday            -0.004391    -0.002970  \n",
       "workingday          0.012285     0.029168  \n",
       "temp                0.397456     0.995656  \n",
       "atemp               0.392754     0.996331  \n",
       "humidity           -0.317318    -0.058869  \n",
       "windspeed           0.099752    -0.041167  \n",
       "Total_booking       1.000000     0.396589  \n",
       "temperature         0.396589     1.000000  "
      ]
     },
     "execution_count": 67,
     "metadata": {},
     "output_type": "execute_result"
    }
   ],
   "source": [
    "train.corr()"
   ]
  },
  {
   "cell_type": "markdown",
   "metadata": {},
   "source": [
    "#### 1. We can observe that humidity has negative co-relation with total booking which tells us that if humidity increase cab bookings decreases. \n",
    "#### 2. The columns \"temp\" and \"atemp\" has highest posive co-relation with total booking.\n",
    "#### 3. Windspeed also has a positive co-relation with total_booking.\n",
    "#### 4. \"Workingday\" and \"holiday\" has negative co-relation which tell us that there are not many holidays during the week. \n",
    "#### 5. The columns \"temp\" and \"atemp\" are highly co-related with each other aswell.\n",
    "#### 6. There is a negative co-relation between windspeed and humidity."
   ]
  },
  {
   "cell_type": "markdown",
   "metadata": {},
   "source": [
    "## Feature Engineering "
   ]
  },
  {
   "cell_type": "markdown",
   "metadata": {},
   "source": [
    "# Date Column\n",
    "#### Extracting Day of the week and month from date column for better visualization analysis. Creating 3 new columns with month,year and time from the date column"
   ]
  },
  {
   "cell_type": "code",
   "execution_count": 68,
   "metadata": {},
   "outputs": [],
   "source": [
    "train['date']=train.datetime.apply(lambda x:x.split()[0])\n",
    "train['day']=train.datetime.apply(lambda x:x.split(' ')[0].split(\"/\")[1])\n",
    "train['day']=train['day'].astype('str').astype('int')\n",
    "train['month']=train.datetime.apply(lambda x:x.split(\" \")[0].split(\"/\")[0])\n",
    "train['month']=train['month'].astype('str').astype('int')\n",
    "train['time']=train.datetime.apply(lambda x:x.split()[1].split(\":\")[0])\n",
    "train['time']=train['time'].astype('str').astype('int')\n",
    "train['year']=train.date.apply(lambda x:x.split(\"/\")[2])\n",
    "train['year']=train['year'].astype('str').astype('int')\n",
    "train['datetime']=train['datetime'].apply(lambda x:datetime.datetime.strptime(x,'%m/%d/%Y %H:%M'))"
   ]
  },
  {
   "cell_type": "code",
   "execution_count": 69,
   "metadata": {},
   "outputs": [
    {
     "data": {
      "text/plain": [
       "datetime         datetime64[ns]\n",
       "season                   object\n",
       "holiday                   int64\n",
       "workingday                int64\n",
       "weather                  object\n",
       "temp                    float64\n",
       "atemp                   float64\n",
       "humidity                float64\n",
       "windspeed               float64\n",
       "Total_booking             int64\n",
       "date                     object\n",
       "year                      int32\n",
       "day                       int32\n",
       "month                     int32\n",
       "time                      int32\n",
       "temperature             float64\n",
       "dtype: object"
      ]
     },
     "execution_count": 69,
     "metadata": {},
     "output_type": "execute_result"
    }
   ],
   "source": [
    "train.dtypes"
   ]
  },
  {
   "cell_type": "markdown",
   "metadata": {},
   "source": [
    "### Deleting Column Datetime and date as all the information is extracted from it"
   ]
  },
  {
   "cell_type": "code",
   "execution_count": 70,
   "metadata": {},
   "outputs": [],
   "source": [
    "train.drop(['datetime','date'],axis=1,inplace=True)"
   ]
  },
  {
   "cell_type": "markdown",
   "metadata": {},
   "source": [
    "# Generating get_dummies for the training data"
   ]
  },
  {
   "cell_type": "code",
   "execution_count": 71,
   "metadata": {},
   "outputs": [
    {
     "data": {
      "text/html": [
       "<div>\n",
       "<style scoped>\n",
       "    .dataframe tbody tr th:only-of-type {\n",
       "        vertical-align: middle;\n",
       "    }\n",
       "\n",
       "    .dataframe tbody tr th {\n",
       "        vertical-align: top;\n",
       "    }\n",
       "\n",
       "    .dataframe thead th {\n",
       "        text-align: right;\n",
       "    }\n",
       "</style>\n",
       "<table border=\"1\" class=\"dataframe\">\n",
       "  <thead>\n",
       "    <tr style=\"text-align: right;\">\n",
       "      <th></th>\n",
       "      <th>holiday</th>\n",
       "      <th>workingday</th>\n",
       "      <th>temp</th>\n",
       "      <th>atemp</th>\n",
       "      <th>humidity</th>\n",
       "      <th>windspeed</th>\n",
       "      <th>Total_booking</th>\n",
       "      <th>year</th>\n",
       "      <th>day</th>\n",
       "      <th>month</th>\n",
       "      <th>time</th>\n",
       "      <th>temperature</th>\n",
       "      <th>season_Fall</th>\n",
       "      <th>season_Spring</th>\n",
       "      <th>season_Summer</th>\n",
       "      <th>season_Winter</th>\n",
       "      <th>weather_ Clear + Few clouds</th>\n",
       "      <th>weather_ Heavy Rain + Thunderstorm</th>\n",
       "      <th>weather_ Light Snow, Light Rain</th>\n",
       "      <th>weather_ Mist + Cloudy</th>\n",
       "    </tr>\n",
       "  </thead>\n",
       "  <tbody>\n",
       "    <tr>\n",
       "      <th>0</th>\n",
       "      <td>0</td>\n",
       "      <td>1</td>\n",
       "      <td>22.14</td>\n",
       "      <td>25.760</td>\n",
       "      <td>77.0</td>\n",
       "      <td>16.9979</td>\n",
       "      <td>504</td>\n",
       "      <td>2012</td>\n",
       "      <td>2</td>\n",
       "      <td>5</td>\n",
       "      <td>19</td>\n",
       "      <td>23.9500</td>\n",
       "      <td>0</td>\n",
       "      <td>0</td>\n",
       "      <td>1</td>\n",
       "      <td>0</td>\n",
       "      <td>1</td>\n",
       "      <td>0</td>\n",
       "      <td>0</td>\n",
       "      <td>0</td>\n",
       "    </tr>\n",
       "    <tr>\n",
       "      <th>1</th>\n",
       "      <td>0</td>\n",
       "      <td>1</td>\n",
       "      <td>28.70</td>\n",
       "      <td>33.335</td>\n",
       "      <td>79.0</td>\n",
       "      <td>19.0012</td>\n",
       "      <td>5</td>\n",
       "      <td>2012</td>\n",
       "      <td>5</td>\n",
       "      <td>9</td>\n",
       "      <td>4</td>\n",
       "      <td>31.0175</td>\n",
       "      <td>1</td>\n",
       "      <td>0</td>\n",
       "      <td>0</td>\n",
       "      <td>0</td>\n",
       "      <td>1</td>\n",
       "      <td>0</td>\n",
       "      <td>0</td>\n",
       "      <td>0</td>\n",
       "    </tr>\n",
       "  </tbody>\n",
       "</table>\n",
       "</div>"
      ],
      "text/plain": [
       "   holiday  workingday   temp   atemp  humidity  windspeed  Total_booking  \\\n",
       "0        0           1  22.14  25.760      77.0    16.9979            504   \n",
       "1        0           1  28.70  33.335      79.0    19.0012              5   \n",
       "\n",
       "   year  day  month  time  temperature  season_Fall  season_Spring  \\\n",
       "0  2012    2      5    19      23.9500            0              0   \n",
       "1  2012    5      9     4      31.0175            1              0   \n",
       "\n",
       "   season_Summer  season_Winter  weather_ Clear + Few clouds  \\\n",
       "0              1              0                            1   \n",
       "1              0              0                            1   \n",
       "\n",
       "   weather_ Heavy Rain + Thunderstorm   weather_ Light Snow, Light Rain  \\\n",
       "0                                    0                                0   \n",
       "1                                    0                                0   \n",
       "\n",
       "   weather_ Mist + Cloudy   \n",
       "0                        0  \n",
       "1                        0  "
      ]
     },
     "execution_count": 71,
     "metadata": {},
     "output_type": "execute_result"
    }
   ],
   "source": [
    "train=pd.get_dummies(train)\n",
    "train.head(2)"
   ]
  },
  {
   "cell_type": "markdown",
   "metadata": {},
   "source": [
    " Modifying the Test Data"
   ]
  },
  {
   "cell_type": "code",
   "execution_count": 72,
   "metadata": {},
   "outputs": [],
   "source": [
    "test=pd.read_csv(r\"Dataset/test.csv\")\n",
    "test_target=pd.read_csv(r\"Dataset/test_label.csv\",header=None)\n",
    "test['Total_booking']=test_target\n",
    "test['date']=test.datetime.apply(lambda x:x.split()[0])\n",
    "test['year']=test.date.apply(lambda x:x.split(\"/\")[2])\n",
    "test['year']=test['year'].astype('str').astype('int')\n",
    "test['day']=test.datetime.apply(lambda x:x.split(' ')[0].split(\"/\")[1])\n",
    "test['day']=test['day'].astype('str').astype('int')\n",
    "test['month']=test.datetime.apply(lambda x:x.split(\" \")[0].split(\"/\")[0])\n",
    "test['month']=test['month'].astype('str').astype('int')\n",
    "test['time']=test.datetime.apply(lambda x:x.split()[1].split(\":\")[0])\n",
    "test['time']=test['time'].astype('str').astype('int')\n",
    "test['datetime']=test['datetime'].apply(lambda x:datetime.datetime.strptime(x,'%m/%d/%Y %H:%M'))\n",
    "test.drop(['datetime','date'],axis=1,inplace=True)\n",
    "test.dtypes\n",
    "test['temperature']=(test['temp']+test['atemp'])/2\n"
   ]
  },
  {
   "cell_type": "code",
   "execution_count": 73,
   "metadata": {},
   "outputs": [
    {
     "name": "stdout",
     "output_type": "stream",
     "text": [
      "atemp column outliers : 0\n",
      "temp column outliers : 0\n",
      "humidity column outliers : 0\n",
      "windspeed column outliers : 0\n"
     ]
    }
   ],
   "source": [
    "def detect_outlier(df,column_name):\n",
    "    data_std = df[column_name].describe()[2]\n",
    "    data_mean = df[column_name].describe()[1]\n",
    "    \n",
    "    lb  = data_mean -(data_std * 3)  \n",
    "    ub = data_mean +(data_std * 3) \n",
    "    \n",
    "    l=df.shape[1]\n",
    "    count=0\n",
    "    for i in range(l):\n",
    "        if df[column_name][i] < lb or df[column_name][i] > ub:\n",
    "            count+=1\n",
    "            outliers.append(df[column_name][i])\n",
    "            \n",
    "#     Replacing with mean using lambda function if there are any outliers\n",
    "    df[column_name] = df[column_name].apply(lambda x : data_mean if (x > ub) or (x < lb) else x )\n",
    "    return count\n",
    "\n",
    "print(\"atemp column outliers :\",detect_outlier(test,'atemp'))\n",
    "print(\"temp column outliers :\",detect_outlier(test,'temp'))\n",
    "print(\"humidity column outliers :\",detect_outlier(test,'humidity'))\n",
    "print(\"windspeed column outliers :\",detect_outlier(test,'windspeed'))"
   ]
  },
  {
   "cell_type": "code",
   "execution_count": 74,
   "metadata": {},
   "outputs": [
    {
     "data": {
      "text/html": [
       "<div>\n",
       "<style scoped>\n",
       "    .dataframe tbody tr th:only-of-type {\n",
       "        vertical-align: middle;\n",
       "    }\n",
       "\n",
       "    .dataframe tbody tr th {\n",
       "        vertical-align: top;\n",
       "    }\n",
       "\n",
       "    .dataframe thead th {\n",
       "        text-align: right;\n",
       "    }\n",
       "</style>\n",
       "<table border=\"1\" class=\"dataframe\">\n",
       "  <thead>\n",
       "    <tr style=\"text-align: right;\">\n",
       "      <th></th>\n",
       "      <th>holiday</th>\n",
       "      <th>workingday</th>\n",
       "      <th>temp</th>\n",
       "      <th>atemp</th>\n",
       "      <th>humidity</th>\n",
       "      <th>windspeed</th>\n",
       "      <th>Total_booking</th>\n",
       "      <th>year</th>\n",
       "      <th>day</th>\n",
       "      <th>month</th>\n",
       "      <th>time</th>\n",
       "      <th>temperature</th>\n",
       "      <th>season_Fall</th>\n",
       "      <th>season_Spring</th>\n",
       "      <th>season_Summer</th>\n",
       "      <th>season_Winter</th>\n",
       "      <th>weather_ Clear + Few clouds</th>\n",
       "      <th>weather_ Light Snow, Light Rain</th>\n",
       "      <th>weather_ Mist + Cloudy</th>\n",
       "    </tr>\n",
       "  </thead>\n",
       "  <tbody>\n",
       "    <tr>\n",
       "      <th>0</th>\n",
       "      <td>0</td>\n",
       "      <td>1</td>\n",
       "      <td>21.32</td>\n",
       "      <td>25.000</td>\n",
       "      <td>48.0</td>\n",
       "      <td>35.0008</td>\n",
       "      <td>256</td>\n",
       "      <td>2012</td>\n",
       "      <td>10</td>\n",
       "      <td>5</td>\n",
       "      <td>11</td>\n",
       "      <td>23.1600</td>\n",
       "      <td>0</td>\n",
       "      <td>0</td>\n",
       "      <td>1</td>\n",
       "      <td>0</td>\n",
       "      <td>1</td>\n",
       "      <td>0</td>\n",
       "      <td>0</td>\n",
       "    </tr>\n",
       "    <tr>\n",
       "      <th>1</th>\n",
       "      <td>0</td>\n",
       "      <td>0</td>\n",
       "      <td>23.78</td>\n",
       "      <td>27.275</td>\n",
       "      <td>64.0</td>\n",
       "      <td>7.0015</td>\n",
       "      <td>87</td>\n",
       "      <td>2012</td>\n",
       "      <td>9</td>\n",
       "      <td>6</td>\n",
       "      <td>7</td>\n",
       "      <td>25.5275</td>\n",
       "      <td>0</td>\n",
       "      <td>0</td>\n",
       "      <td>1</td>\n",
       "      <td>0</td>\n",
       "      <td>1</td>\n",
       "      <td>0</td>\n",
       "      <td>0</td>\n",
       "    </tr>\n",
       "  </tbody>\n",
       "</table>\n",
       "</div>"
      ],
      "text/plain": [
       "   holiday  workingday   temp   atemp  humidity  windspeed  Total_booking  \\\n",
       "0        0           1  21.32  25.000      48.0    35.0008            256   \n",
       "1        0           0  23.78  27.275      64.0     7.0015             87   \n",
       "\n",
       "   year  day  month  time  temperature  season_Fall  season_Spring  \\\n",
       "0  2012   10      5    11      23.1600            0              0   \n",
       "1  2012    9      6     7      25.5275            0              0   \n",
       "\n",
       "   season_Summer  season_Winter  weather_ Clear + Few clouds  \\\n",
       "0              1              0                            1   \n",
       "1              1              0                            1   \n",
       "\n",
       "   weather_ Light Snow, Light Rain  weather_ Mist + Cloudy   \n",
       "0                                0                        0  \n",
       "1                                0                        0  "
      ]
     },
     "execution_count": 74,
     "metadata": {},
     "output_type": "execute_result"
    }
   ],
   "source": [
    "test=pd.get_dummies(test)\n",
    "test.head(2)"
   ]
  },
  {
   "cell_type": "code",
   "execution_count": 75,
   "metadata": {
    "scrolled": true
   },
   "outputs": [
    {
     "data": {
      "text/plain": [
       "(Index(['holiday', 'workingday', 'temp', 'atemp', 'humidity', 'windspeed',\n",
       "        'Total_booking', 'year', 'day', 'month', 'time', 'temperature',\n",
       "        'season_Fall', 'season_Spring', 'season_Summer', 'season_Winter',\n",
       "        'weather_ Clear + Few clouds', 'weather_ Heavy Rain + Thunderstorm ',\n",
       "        'weather_ Light Snow, Light Rain', 'weather_ Mist + Cloudy '],\n",
       "       dtype='object'),\n",
       " Index(['holiday', 'workingday', 'temp', 'atemp', 'humidity', 'windspeed',\n",
       "        'Total_booking', 'year', 'day', 'month', 'time', 'temperature',\n",
       "        'season_Fall', 'season_Spring', 'season_Summer', 'season_Winter',\n",
       "        'weather_ Clear + Few clouds', 'weather_ Light Snow, Light Rain',\n",
       "        'weather_ Mist + Cloudy '],\n",
       "       dtype='object'),\n",
       " (8708, 20),\n",
       " (2178, 19))"
      ]
     },
     "execution_count": 75,
     "metadata": {},
     "output_type": "execute_result"
    }
   ],
   "source": [
    "train.columns,test.columns,train.shape,test.shape"
   ]
  },
  {
   "cell_type": "markdown",
   "metadata": {},
   "source": [
    "#### As the column \"weather_ Heavy Rain + Thunderstorm\" doesn't exist in test data, we can remove it from train data."
   ]
  },
  {
   "cell_type": "markdown",
   "metadata": {},
   "source": [
    "## Splitting the data into input and target variable"
   ]
  },
  {
   "cell_type": "code",
   "execution_count": 76,
   "metadata": {},
   "outputs": [],
   "source": [
    "X=train.drop(['Total_booking','atemp','temp','day','weather_ Heavy Rain + Thunderstorm '],axis=1)\n",
    "y=train[['Total_booking']]\n",
    "X_test=test.drop(['Total_booking','atemp','temp','day'],axis=1)\n",
    "y_test=test[['Total_booking']]"
   ]
  },
  {
   "cell_type": "code",
   "execution_count": 77,
   "metadata": {},
   "outputs": [
    {
     "data": {
      "text/plain": [
       "((8708, 15), (2178, 15), (8708, 1), (2178, 1))"
      ]
     },
     "execution_count": 77,
     "metadata": {},
     "output_type": "execute_result"
    }
   ],
   "source": [
    "X.shape,X_test.shape,y.shape,y_test.shape"
   ]
  },
  {
   "cell_type": "markdown",
   "metadata": {},
   "source": [
    "### Linear Regression"
   ]
  },
  {
   "cell_type": "markdown",
   "metadata": {},
   "source": [
    "### Linear Regression using cross_val_score"
   ]
  },
  {
   "cell_type": "code",
   "execution_count": 78,
   "metadata": {},
   "outputs": [
    {
     "name": "stdout",
     "output_type": "stream",
     "text": [
      "training data score:  0.3941764373292412\n",
      "testing data score: 0.3953869357682427\n",
      "Wall time: 327 ms\n"
     ]
    }
   ],
   "source": [
    "%%time\n",
    "lr = LinearRegression()\n",
    "kfold = model_selection.KFold(n_splits=5, random_state=162)\n",
    "cv_results = model_selection.cross_val_score(lr, X, y, cv=kfold, scoring='r2')\n",
    "print(\"training data score: \",cv_results.mean())\n",
    "\n",
    "lr = LinearRegression()\n",
    "kfold = model_selection.KFold(n_splits=5, random_state=162)\n",
    "cv_results = model_selection.cross_val_score(lr, X_test, y_test, cv=kfold, scoring='r2')\n",
    "print(\"testing data score:\" ,cv_results.mean())"
   ]
  },
  {
   "cell_type": "markdown",
   "metadata": {},
   "source": [
    "### Linear Regression with grid search"
   ]
  },
  {
   "cell_type": "code",
   "execution_count": 79,
   "metadata": {},
   "outputs": [
    {
     "name": "stdout",
     "output_type": "stream",
     "text": [
      "training data r2 / variance :  0.3944107157457179\n",
      "testing data r2 / variance :  0.3955108797929796\n",
      "Wall time: 1.9 s\n"
     ]
    }
   ],
   "source": [
    "%%time\n",
    "model = LinearRegression()\n",
    "parameters = {'fit_intercept':[True,False], 'normalize':[True,False], 'copy_X':[True, False]}\n",
    "grid = GridSearchCV(model,parameters, cv=4)\n",
    "grid.fit(X, y)\n",
    "print(\"training data r2 / variance : \", grid.best_score_)\n",
    "grid.fit(X_test, y_test)\n",
    "print(\"testing data r2 / variance : \", grid.best_score_)\n",
    "# print(\"Residual sum of squares: %.2f\",np.mean((grid.predict(X_test) - y_test) ** 2))"
   ]
  },
  {
   "cell_type": "markdown",
   "metadata": {},
   "source": [
    "#### Rsquare is lower here."
   ]
  },
  {
   "cell_type": "markdown",
   "metadata": {},
   "source": [
    "### Feature Importance using RandomForestClassifier"
   ]
  },
  {
   "cell_type": "code",
   "execution_count": 80,
   "metadata": {},
   "outputs": [
    {
     "name": "stdout",
     "output_type": "stream",
     "text": [
      "('holiday', 0.006809087393180132)\n",
      "('workingday', 0.029126847253021875)\n",
      "('humidity', 0.20427143325472052)\n",
      "('windspeed', 0.1809305894534912)\n",
      "('year', 0.019291830118043286)\n",
      "('month', 0.07554150246862605)\n",
      "('time', 0.20370005833155277)\n",
      "('temperature', 0.21355860103953392)\n",
      "('season_Fall', 0.008411024243585362)\n",
      "('season_Spring', 0.003980402479974459)\n",
      "('season_Summer', 0.008941683654535711)\n",
      "('season_Winter', 0.008711585756698205)\n",
      "('weather_ Clear + Few clouds', 0.014393528325485272)\n",
      "('weather_ Light Snow, Light Rain', 0.006920946384556213)\n",
      "('weather_ Mist + Cloudy ', 0.015410879842995153)\n",
      "Wall time: 5.35 s\n"
     ]
    }
   ],
   "source": [
    "%%time\n",
    "from sklearn.ensemble import RandomForestClassifier\n",
    "model = RandomForestClassifier()\n",
    "model.fit(X,y)\n",
    "for i in zip(list(X.columns),model.feature_importances_):\n",
    "     print(i)"
   ]
  },
  {
   "cell_type": "markdown",
   "metadata": {},
   "source": [
    "#### As all columns show certain importance over the target column, lets not eliminate any column yet."
   ]
  },
  {
   "cell_type": "markdown",
   "metadata": {},
   "source": [
    "# Improving the SCORE using ensemble methods"
   ]
  },
  {
   "cell_type": "markdown",
   "metadata": {},
   "source": [
    "### GradientBoostingRegressor"
   ]
  },
  {
   "cell_type": "code",
   "execution_count": 81,
   "metadata": {},
   "outputs": [
    {
     "name": "stdout",
     "output_type": "stream",
     "text": [
      "r2 score : 0.8737746510697225\n",
      "RMSE of training data: 64.49854151002235\n",
      "RMSE of testing data: 65.91580302249068\n",
      "Wall time: 2.03 s\n"
     ]
    }
   ],
   "source": [
    "%%time\n",
    "from sklearn.ensemble import GradientBoostingRegressor\n",
    "from sklearn.metrics import mean_squared_error\n",
    "model=GradientBoostingRegressor(random_state=216)\n",
    "model.fit(X,y)\n",
    "print(\"r2 score :\",model.score(X,y))\n",
    "\n",
    "pred_train=model.predict(X)\n",
    "print(\"RMSE of training data:\",np.sqrt(mean_squared_error(y,pred_train)))\n",
    "\n",
    "pred_test=model.predict(X_test)\n",
    "print(\"RMSE of testing data:\",np.sqrt(mean_squared_error(y_test,pred_test)))"
   ]
  },
  {
   "cell_type": "markdown",
   "metadata": {},
   "source": [
    "#### The model looks good with very less difference between RMSE of training and testing data."
   ]
  },
  {
   "cell_type": "code",
   "execution_count": 82,
   "metadata": {},
   "outputs": [
    {
     "data": {
      "text/plain": [
       "((8708, 15), (8708, 1), (2178, 15), (2178, 1))"
      ]
     },
     "execution_count": 82,
     "metadata": {},
     "output_type": "execute_result"
    }
   ],
   "source": [
    "X.shape,y.shape,X_test.shape,y_test.shape"
   ]
  },
  {
   "cell_type": "markdown",
   "metadata": {},
   "source": [
    "### XGBoost Regressor"
   ]
  },
  {
   "cell_type": "code",
   "execution_count": 83,
   "metadata": {},
   "outputs": [
    {
     "name": "stdout",
     "output_type": "stream",
     "text": [
      "[05:02:09] WARNING: C:/Jenkins/workspace/xgboost-win64_release_0.90/src/objective/regression_obj.cu:152: reg:linear is now deprecated in favor of reg:squarederror.\n",
      "r2 score : 0.8645343001337875\n",
      "RMSE of training data: 66.81766222302234\n",
      "RMSE of testing data: 69.45952106620152\n",
      "Wall time: 2.86 s\n"
     ]
    }
   ],
   "source": [
    "%%time\n",
    "import xgboost as xgb\n",
    "model=xgb.XGBRegressor(random_state=216)\n",
    "model.fit(X,y)\n",
    "print(\"r2 score :\",model.score(X,y))\n",
    "\n",
    "pred_train=model.predict(X)\n",
    "print(\"RMSE of training data:\",np.sqrt(mean_squared_error(y,pred_train)))\n",
    "\n",
    "pred_test=model.predict(X_test)\n",
    "print(\"RMSE of testing data:\",np.sqrt(mean_squared_error(y_test,pred_test)))"
   ]
  },
  {
   "cell_type": "markdown",
   "metadata": {},
   "source": [
    "#### The model looks good. "
   ]
  },
  {
   "cell_type": "markdown",
   "metadata": {},
   "source": [
    "### RandomForest Regressor"
   ]
  },
  {
   "cell_type": "code",
   "execution_count": 84,
   "metadata": {},
   "outputs": [
    {
     "name": "stdout",
     "output_type": "stream",
     "text": [
      "r2 score : 0.9876101560375647\n",
      "RMSE of training data: 20.207357396004877\n",
      "RMSE of testing data: 47.1065089254885\n",
      "Wall time: 1.16 s\n"
     ]
    }
   ],
   "source": [
    "%%time\n",
    "model=RandomForestRegressor(random_state=216)\n",
    "model.fit(X,y)\n",
    "print(\"r2 score :\",model.score(X,y))\n",
    "\n",
    "pred_train=model.predict(X)\n",
    "print(\"RMSE of training data:\",np.sqrt(mean_squared_error(y,pred_train)))\n",
    "\n",
    "pred_test=model.predict(X_test)\n",
    "print(\"RMSE of testing data:\",np.sqrt(mean_squared_error(y_test,pred_test)))"
   ]
  },
  {
   "cell_type": "markdown",
   "metadata": {},
   "source": [
    "#### Even though the r2 value is high,RMSE of testing is higher than training. The model maybe overfitting."
   ]
  },
  {
   "cell_type": "markdown",
   "metadata": {},
   "source": [
    "## Improving the ensemble models with parameter tuning with GridSearchCV"
   ]
  },
  {
   "cell_type": "markdown",
   "metadata": {},
   "source": [
    "#### GridSearchCV on GradientBoost"
   ]
  },
  {
   "cell_type": "code",
   "execution_count": 85,
   "metadata": {},
   "outputs": [
    {
     "name": "stdout",
     "output_type": "stream",
     "text": [
      "GSCV Gradient Boost best parameters {'learning_rate': 0.2, 'n_estimators': 2000}\n",
      "-2346.4410101132\n",
      "Wall time: 10min 47s\n"
     ]
    }
   ],
   "source": [
    "%%time\n",
    "from sklearn.ensemble import GradientBoostingRegressor\n",
    "params={'n_estimators':[1000,2000,3000],'learning_rate':[0.2,0.5,0.9]}\n",
    "model=GradientBoostingRegressor(random_state=216)\n",
    "gcv=GridSearchCV(estimator=model,param_grid=params,scoring='neg_mean_squared_error',n_jobs=1)\n",
    "gcv.fit(X,y)\n",
    "print(\"GSCV Gradient Boost best parameters\",gcv.best_params_)\n",
    "print(gcv.best_score_)"
   ]
  },
  {
   "cell_type": "markdown",
   "metadata": {},
   "source": [
    "#### Tuning the model with best parameters"
   ]
  },
  {
   "cell_type": "code",
   "execution_count": 86,
   "metadata": {},
   "outputs": [
    {
     "name": "stdout",
     "output_type": "stream",
     "text": [
      "r2 score : 0.9680048936437694\n",
      "RMSE of training data: 32.47269872650957\n",
      "RMSE of testing data: 45.19440549785205\n",
      "Wall time: 35.3 s\n"
     ]
    }
   ],
   "source": [
    "%%time\n",
    "from sklearn.ensemble import GradientBoostingRegressor\n",
    "model=GradientBoostingRegressor(n_estimators= 2000,learning_rate=0.2,random_state=216)\n",
    "model.fit(X,y)\n",
    "print(\"r2 score :\",model.score(X,y))\n",
    "\n",
    "pred_train=model.predict(X)\n",
    "print(\"RMSE of training data:\",np.sqrt(mean_squared_error(y,pred_train)))\n",
    "\n",
    "pred_test=model.predict(X_test)\n",
    "print(\"RMSE of testing data:\",np.sqrt(mean_squared_error(y_test,pred_test)))"
   ]
  },
  {
   "cell_type": "markdown",
   "metadata": {},
   "source": [
    "#### R square vale of testing data incrased from 0.85 to 0.968 with parameter tuning using grid search."
   ]
  },
  {
   "cell_type": "code",
   "execution_count": 87,
   "metadata": {},
   "outputs": [
    {
     "name": "stdout",
     "output_type": "stream",
     "text": [
      "[05:13:46] WARNING: C:/Jenkins/workspace/xgboost-win64_release_0.90/src/objective/regression_obj.cu:152: reg:linear is now deprecated in favor of reg:squarederror.\n",
      "[05:14:04] WARNING: C:/Jenkins/workspace/xgboost-win64_release_0.90/src/objective/regression_obj.cu:152: reg:linear is now deprecated in favor of reg:squarederror.\n",
      "[05:14:22] WARNING: C:/Jenkins/workspace/xgboost-win64_release_0.90/src/objective/regression_obj.cu:152: reg:linear is now deprecated in favor of reg:squarederror.\n",
      "[05:14:40] WARNING: C:/Jenkins/workspace/xgboost-win64_release_0.90/src/objective/regression_obj.cu:152: reg:linear is now deprecated in favor of reg:squarederror.\n",
      "[05:15:15] WARNING: C:/Jenkins/workspace/xgboost-win64_release_0.90/src/objective/regression_obj.cu:152: reg:linear is now deprecated in favor of reg:squarederror.\n",
      "[05:15:51] WARNING: C:/Jenkins/workspace/xgboost-win64_release_0.90/src/objective/regression_obj.cu:152: reg:linear is now deprecated in favor of reg:squarederror.\n",
      "[05:16:27] WARNING: C:/Jenkins/workspace/xgboost-win64_release_0.90/src/objective/regression_obj.cu:152: reg:linear is now deprecated in favor of reg:squarederror.\n",
      "[05:17:20] WARNING: C:/Jenkins/workspace/xgboost-win64_release_0.90/src/objective/regression_obj.cu:152: reg:linear is now deprecated in favor of reg:squarederror.\n",
      "[05:18:13] WARNING: C:/Jenkins/workspace/xgboost-win64_release_0.90/src/objective/regression_obj.cu:152: reg:linear is now deprecated in favor of reg:squarederror.\n",
      "[05:19:06] WARNING: C:/Jenkins/workspace/xgboost-win64_release_0.90/src/objective/regression_obj.cu:152: reg:linear is now deprecated in favor of reg:squarederror.\n",
      "[05:19:23] WARNING: C:/Jenkins/workspace/xgboost-win64_release_0.90/src/objective/regression_obj.cu:152: reg:linear is now deprecated in favor of reg:squarederror.\n",
      "[05:19:41] WARNING: C:/Jenkins/workspace/xgboost-win64_release_0.90/src/objective/regression_obj.cu:152: reg:linear is now deprecated in favor of reg:squarederror.\n",
      "[05:19:59] WARNING: C:/Jenkins/workspace/xgboost-win64_release_0.90/src/objective/regression_obj.cu:152: reg:linear is now deprecated in favor of reg:squarederror.\n",
      "[05:20:35] WARNING: C:/Jenkins/workspace/xgboost-win64_release_0.90/src/objective/regression_obj.cu:152: reg:linear is now deprecated in favor of reg:squarederror.\n",
      "[05:21:10] WARNING: C:/Jenkins/workspace/xgboost-win64_release_0.90/src/objective/regression_obj.cu:152: reg:linear is now deprecated in favor of reg:squarederror.\n",
      "[05:21:45] WARNING: C:/Jenkins/workspace/xgboost-win64_release_0.90/src/objective/regression_obj.cu:152: reg:linear is now deprecated in favor of reg:squarederror.\n",
      "[05:22:38] WARNING: C:/Jenkins/workspace/xgboost-win64_release_0.90/src/objective/regression_obj.cu:152: reg:linear is now deprecated in favor of reg:squarederror.\n",
      "[05:23:31] WARNING: C:/Jenkins/workspace/xgboost-win64_release_0.90/src/objective/regression_obj.cu:152: reg:linear is now deprecated in favor of reg:squarederror.\n",
      "[05:24:24] WARNING: C:/Jenkins/workspace/xgboost-win64_release_0.90/src/objective/regression_obj.cu:152: reg:linear is now deprecated in favor of reg:squarederror.\n",
      "[05:24:42] WARNING: C:/Jenkins/workspace/xgboost-win64_release_0.90/src/objective/regression_obj.cu:152: reg:linear is now deprecated in favor of reg:squarederror.\n",
      "[05:24:59] WARNING: C:/Jenkins/workspace/xgboost-win64_release_0.90/src/objective/regression_obj.cu:152: reg:linear is now deprecated in favor of reg:squarederror.\n",
      "[05:25:17] WARNING: C:/Jenkins/workspace/xgboost-win64_release_0.90/src/objective/regression_obj.cu:152: reg:linear is now deprecated in favor of reg:squarederror.\n",
      "[05:25:52] WARNING: C:/Jenkins/workspace/xgboost-win64_release_0.90/src/objective/regression_obj.cu:152: reg:linear is now deprecated in favor of reg:squarederror.\n",
      "[05:26:27] WARNING: C:/Jenkins/workspace/xgboost-win64_release_0.90/src/objective/regression_obj.cu:152: reg:linear is now deprecated in favor of reg:squarederror.\n",
      "[05:27:03] WARNING: C:/Jenkins/workspace/xgboost-win64_release_0.90/src/objective/regression_obj.cu:152: reg:linear is now deprecated in favor of reg:squarederror.\n",
      "[05:27:56] WARNING: C:/Jenkins/workspace/xgboost-win64_release_0.90/src/objective/regression_obj.cu:152: reg:linear is now deprecated in favor of reg:squarederror.\n",
      "[05:28:49] WARNING: C:/Jenkins/workspace/xgboost-win64_release_0.90/src/objective/regression_obj.cu:152: reg:linear is now deprecated in favor of reg:squarederror.\n",
      "[05:29:42] WARNING: C:/Jenkins/workspace/xgboost-win64_release_0.90/src/objective/regression_obj.cu:152: reg:linear is now deprecated in favor of reg:squarederror.\n",
      "GSCV Gradient Boost best parameters {'learning_rate': 0.2, 'n_estimators': 2000}\n",
      "-2294.498670989094\n",
      "Wall time: 16min 47s\n"
     ]
    }
   ],
   "source": [
    "%%time\n",
    "import xgboost\n",
    "params={'n_estimators':[1000,2000,3000],'learning_rate':[0.2,0.5,0.9]}\n",
    "model=xgboost.XGBRegressor(random_state=216)\n",
    "gcv=GridSearchCV(estimator=model,param_grid=params,scoring='neg_mean_squared_error',n_jobs=1)\n",
    "gcv.fit(X,y)\n",
    "print(\"GSCV Gradient Boost best parameters\",gcv.best_params_)\n",
    "print(gcv.best_score_)"
   ]
  },
  {
   "cell_type": "code",
   "execution_count": 88,
   "metadata": {},
   "outputs": [
    {
     "name": "stdout",
     "output_type": "stream",
     "text": [
      "[05:30:34] WARNING: C:/Jenkins/workspace/xgboost-win64_release_0.90/src/objective/regression_obj.cu:152: reg:linear is now deprecated in favor of reg:squarederror.\n",
      "r2 score : 0.967642870805874\n",
      "RMSE of training data: 32.65589535369056\n",
      "RMSE of testing data: 44.54784508414462\n",
      "Wall time: 57.3 s\n"
     ]
    }
   ],
   "source": [
    "%%time\n",
    "import xgboost\n",
    "model=xgboost.XGBRegressor(n_estimators= 2000,learning_rate=0.2,random_state=216)\n",
    "model.fit(X,y)\n",
    "print(\"r2 score :\",model.score(X,y))\n",
    "\n",
    "pred_train=model.predict(X)\n",
    "print(\"RMSE of training data:\",np.sqrt(mean_squared_error(y,pred_train)))\n",
    "\n",
    "pred_test=model.predict(X_test)\n",
    "print(\"RMSE of testing data:\",np.sqrt(mean_squared_error(y_test,pred_test)))"
   ]
  },
  {
   "cell_type": "markdown",
   "metadata": {},
   "source": [
    "#### R square vale of testing data incrased from 0.86 to 0.967 with parameter tuning using grid search. A significant increase due to grid search."
   ]
  },
  {
   "cell_type": "code",
   "execution_count": 89,
   "metadata": {},
   "outputs": [
    {
     "name": "stdout",
     "output_type": "stream",
     "text": [
      "GSCV Gradient Boost best parameters {'n_estimators': 3000}\n",
      "-2111.575804514092\n",
      "Wall time: 25min 15s\n"
     ]
    }
   ],
   "source": [
    "%%time\n",
    "params={'n_estimators':[1000,2000,3000]}\n",
    "model=RandomForestRegressor(random_state=216)\n",
    "gcv=GridSearchCV(estimator=model,param_grid=params,scoring='neg_mean_squared_error',n_jobs=1)\n",
    "gcv.fit(X,y)\n",
    "print(\"GSCV Gradient Boost best parameters\",gcv.best_params_)\n",
    "print(gcv.best_score_)"
   ]
  },
  {
   "cell_type": "code",
   "execution_count": 90,
   "metadata": {},
   "outputs": [
    {
     "name": "stdout",
     "output_type": "stream",
     "text": [
      "r2 score : 0.9917688335615402\n",
      "RMSE of training data: 16.470519437726033\n",
      "RMSE of testing data: 43.0386886469546\n",
      "Wall time: 5min 39s\n"
     ]
    }
   ],
   "source": [
    "%%time\n",
    "model=RandomForestRegressor(n_estimators= 3000,random_state=216)\n",
    "model.fit(X,y)\n",
    "print(\"r2 score :\",model.score(X,y))\n",
    "\n",
    "pred_train=model.predict(X)\n",
    "print(\"RMSE of training data:\",np.sqrt(mean_squared_error(y,pred_train)))\n",
    "\n",
    "pred_test=model.predict(X_test)\n",
    "print(\"RMSE of testing data:\",np.sqrt(mean_squared_error(y_test,pred_test)))\n",
    "# 0.9917764745276506"
   ]
  },
  {
   "cell_type": "markdown",
   "metadata": {},
   "source": [
    "#### R square vale of testing data incrased from 0.98 to with parameter 0.99 tuning using grid search but with same RMSE of training and testing data. "
   ]
  },
  {
   "cell_type": "markdown",
   "metadata": {},
   "source": [
    "#### Finally, the RandomForestRegressor model performed well on our data with 0.99 explained variance.\n",
    "#### 16.58 root mean squared error on training data. \n",
    "#### 43.07 root mean squared error on testing data."
   ]
  },
  {
   "cell_type": "code",
   "execution_count": null,
   "metadata": {},
   "outputs": [],
   "source": []
  }
 ],
 "metadata": {
  "kernelspec": {
   "display_name": "Python 3",
   "language": "python",
   "name": "python3"
  },
  "language_info": {
   "codemirror_mode": {
    "name": "ipython",
    "version": 3
   },
   "file_extension": ".py",
   "mimetype": "text/x-python",
   "name": "python",
   "nbconvert_exporter": "python",
   "pygments_lexer": "ipython3",
   "version": "3.7.3"
  }
 },
 "nbformat": 4,
 "nbformat_minor": 2
}
